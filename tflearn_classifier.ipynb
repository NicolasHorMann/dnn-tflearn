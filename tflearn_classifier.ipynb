{
 "cells": [
  {
   "cell_type": "code",
   "execution_count": 13,
   "metadata": {},
   "outputs": [],
   "source": [
    "import numpy as np\n",
    "import tensorflow as tf\n",
    "import tflearn\n",
    "import tflearn.datasets.mnist as mnist"
   ]
  },
  {
   "cell_type": "code",
   "execution_count": 8,
   "metadata": {},
   "outputs": [
    {
     "name": "stdout",
     "output_type": "stream",
     "text": [
      "Extracting mnist/train-images-idx3-ubyte.gz\n",
      "Extracting mnist/train-labels-idx1-ubyte.gz\n",
      "Extracting mnist/t10k-images-idx3-ubyte.gz\n",
      "Extracting mnist/t10k-labels-idx1-ubyte.gz\n"
     ]
    }
   ],
   "source": [
    "Xtrain,Ytrain,Xtest,Ytest = mnist.load_data(one_hot=True)"
   ]
  },
  {
   "cell_type": "code",
   "execution_count": 10,
   "metadata": {},
   "outputs": [],
   "source": [
    "inputs = 784\n",
    "layer1 = layer2 = 128\n",
    "classes = 10"
   ]
  },
  {
   "cell_type": "code",
   "execution_count": 22,
   "metadata": {},
   "outputs": [],
   "source": [
    "def create_model():\n",
    "    tf.reset_default_graph() # a kind of GC.\n",
    "    net = tflearn.input_data([None, inputs]) # None: batches.\n",
    "    net = tflearn.fully_connected(net, layer1, activation='ReLU')\n",
    "    net = tflearn.fully_connected(net, layer2, activation='ReLU')\n",
    "    net = tflearn.fully_connected(net, classes, activation='softmax')\n",
    "    net = tflearn.regression(net,optimizer='sgd',learning_rate=0.1,loss='categorical_crossentropy')\n",
    "    model = tflearn.DNN(net) # DNN structure\n",
    "    return model"
   ]
  },
  {
   "cell_type": "code",
   "execution_count": 23,
   "metadata": {},
   "outputs": [
    {
     "name": "stdout",
     "output_type": "stream",
     "text": [
      "Training Step: 9899  | total loss: \u001b[1m\u001b[32m0.02178\u001b[0m\u001b[0m | time: 2.576s\n",
      "| SGD | epoch: 100 | loss: 0.02178 - acc: 0.9972 -- iter: 49000/49500\n",
      "Training Step: 9900  | total loss: \u001b[1m\u001b[32m0.02283\u001b[0m\u001b[0m | time: 3.606s\n",
      "| SGD | epoch: 100 | loss: 0.02283 - acc: 0.9969 | val_loss: 0.08046 - val_acc: 0.9778 -- iter: 49500/49500\n",
      "--\n"
     ]
    }
   ],
   "source": [
    "model = create_model()\n",
    "model.fit(Xtrain,Ytrain,validation_set=0.1,show_metric=True,batch_size=500,n_epoch=100)"
   ]
  },
  {
   "cell_type": "code",
   "execution_count": 25,
   "metadata": {},
   "outputs": [
    {
     "name": "stdout",
     "output_type": "stream",
     "text": [
      "Performance test: 0.9797\n"
     ]
    }
   ],
   "source": [
    "predict = np.array(model.predict(Xtest).argmax(axis=1))\n",
    "correct = Ytest.argmax(axis=1)\n",
    "perform = np.mean(predict==correct, axis=0)\n",
    "print('Performance test:', perform)"
   ]
  },
  {
   "cell_type": "code",
   "execution_count": null,
   "metadata": {},
   "outputs": [],
   "source": []
  }
 ],
 "metadata": {
  "kernelspec": {
   "display_name": "Python 3",
   "language": "python",
   "name": "python3"
  },
  "language_info": {
   "codemirror_mode": {
    "name": "ipython",
    "version": 3
   },
   "file_extension": ".py",
   "mimetype": "text/x-python",
   "name": "python",
   "nbconvert_exporter": "python",
   "pygments_lexer": "ipython3",
   "version": "3.6.4"
  }
 },
 "nbformat": 4,
 "nbformat_minor": 2
}
